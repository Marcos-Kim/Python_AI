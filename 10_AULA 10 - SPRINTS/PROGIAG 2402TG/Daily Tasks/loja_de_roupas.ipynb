{
  "nbformat": 4,
  "nbformat_minor": 0,
  "metadata": {
    "colab": {
      "provenance": []
    },
    "kernelspec": {
      "name": "python3",
      "display_name": "Python 3"
    },
    "language_info": {
      "name": "python"
    }
  },
  "cells": [
    {
      "cell_type": "markdown",
      "source": [
        "criação de base de dados de vendas de uma loja de roupas utilizando principalmente csv,pandas,numpy.\n",
        "dados criados: cód. prod, preço, qtd.\n",
        "Retorna: total vendido e quantidade de itens.\n"
      ],
      "metadata": {
        "id": "5IgvOZZ-hn00"
      }
    },
    {
      "cell_type": "code",
      "execution_count": null,
      "metadata": {
        "id": "lTX1J6fdmsPy"
      },
      "outputs": [],
      "source": [
        "import csv"
      ]
    },
    {
      "cell_type": "code",
      "source": [
        "import random"
      ],
      "metadata": {
        "id": "oqs7vq9ooK0h"
      },
      "execution_count": null,
      "outputs": []
    },
    {
      "cell_type": "code",
      "source": [
        "import pandas as pd"
      ],
      "metadata": {
        "id": "IYfcAPco0i5W"
      },
      "execution_count": null,
      "outputs": []
    },
    {
      "cell_type": "code",
      "source": [
        "import numpy as np"
      ],
      "metadata": {
        "id": "ehFt7INQM_D7"
      },
      "execution_count": null,
      "outputs": []
    },
    {
      "cell_type": "code",
      "source": [
        "nome_arquivo = 'vendas_loja_roupas.csv'"
      ],
      "metadata": {
        "id": "PGtt5yHmoPJW"
      },
      "execution_count": null,
      "outputs": []
    },
    {
      "cell_type": "code",
      "source": [
        "cabecalho = ['codigo_item', 'qtd_vendida','preco_unit']"
      ],
      "metadata": {
        "id": "e13qijndoY0X"
      },
      "execution_count": null,
      "outputs": []
    },
    {
      "cell_type": "code",
      "source": [
        "def gerar_dados_vendas(num_linhas):\n",
        "  dados=[]\n",
        "  for _ in range (num_linhas):\n",
        "    codigo_item=random.randint(1,50)\n",
        "    qtd_vendida=random.randint(1,20)\n",
        "    preco_unit=round(random.uniform(10,100),2)\n",
        "    dados.append([codigo_item, qtd_vendida,preco_unit])\n",
        "  return dados\n",
        "dados_vendas=gerar_dados_vendas(200)\n",
        "\n",
        "with open(nome_arquivo, mode='w',newline='') as arquivo_csv:\n",
        "  escritor_csv=csv.writer(arquivo_csv)\n",
        "  escritor_csv.writerow(cabecalho)\n",
        "  escritor_csv.writerows(dados_vendas)\n",
        "\n",
        "print(f'Arquivo CSV{nome_arquivo} criado com sucesso')"
      ],
      "metadata": {
        "colab": {
          "base_uri": "https://localhost:8080/"
        },
        "id": "Z3uvwXAvona2",
        "outputId": "d85f880b-96dc-4102-90ca-5f4067160f5f"
      },
      "execution_count": null,
      "outputs": [
        {
          "output_type": "stream",
          "name": "stdout",
          "text": [
            "Arquivo CSVvendas_loja_roupas.csv criado com sucesso\n"
          ]
        }
      ]
    },
    {
      "cell_type": "code",
      "source": [
        "with open(nome_arquivo,mode='r+',newline='') as tabela:\n",
        "  dados = np.array(list(csv.reader(tabela))[1:],dtype=np.float64)\n",
        "\n",
        "print('oi',dados[0][2])\n",
        "print(dados.shape)"
      ],
      "metadata": {
        "colab": {
          "base_uri": "https://localhost:8080/"
        },
        "id": "vL_cVYu1saeR",
        "outputId": "eae67bc8-3d5b-4508-c9d9-78b86bd683ec"
      },
      "execution_count": null,
      "outputs": [
        {
          "output_type": "stream",
          "name": "stdout",
          "text": [
            "oi 62.91\n",
            "(200, 3)\n"
          ]
        }
      ]
    },
    {
      "cell_type": "code",
      "source": [
        "def subarray(name_array,lin,col,type):\n",
        "  new_array=np.array([type(sublist[col])for sublist in name_array[lin:]])\n",
        "  return new_array\n",
        "a_val=subarray(dados,0,2,float)\n",
        "a_qtd=subarray(dados,0,1,int)\n",
        "a_cod=subarray(dados,0,0,int)"
      ],
      "metadata": {
        "id": "bdjZnJeZ4CYY"
      },
      "execution_count": null,
      "outputs": []
    },
    {
      "cell_type": "code",
      "source": [
        "a_val_total=[]\n",
        "for item1,item2 in zip(a_val,a_qtd):\n",
        "  x=item1*item2\n",
        "  a_val_total.append(x)\n",
        "\n",
        "print('total vendido:' ,sum(np.array(a_val_total)))"
      ],
      "metadata": {
        "colab": {
          "base_uri": "https://localhost:8080/"
        },
        "id": "qu1pz5yWFJ8j",
        "outputId": "fa584e59-88e0-47bf-bd9f-310819cb4dd7"
      },
      "execution_count": null,
      "outputs": [
        {
          "output_type": "stream",
          "name": "stdout",
          "text": [
            "total vendido: 111879.57999999997\n"
          ]
        }
      ]
    },
    {
      "cell_type": "code",
      "source": [
        "tipos=np.unique(a_cod)\n",
        "print('total de itens:',len(tipos))"
      ],
      "metadata": {
        "colab": {
          "base_uri": "https://localhost:8080/"
        },
        "id": "m_omJdGuWuGJ",
        "outputId": "283abd3d-2128-4a8a-e7b5-718c96154b62"
      },
      "execution_count": null,
      "outputs": [
        {
          "output_type": "stream",
          "name": "stdout",
          "text": [
            "total de itens: 50\n"
          ]
        }
      ]
    },
    {
      "cell_type": "code",
      "source": [],
      "metadata": {
        "id": "F3Wowhbh0Mwx"
      },
      "execution_count": null,
      "outputs": []
    },
    {
      "cell_type": "markdown",
      "source": [
        "Rascunhos:"
      ],
      "metadata": {
        "id": "0iOFWprb0KJa"
      }
    },
    {
      "cell_type": "code",
      "source": [],
      "metadata": {
        "colab": {
          "base_uri": "https://localhost:8080/"
        },
        "id": "3NQiYJHGqyqc",
        "outputId": "ddd7dd54-1ac6-410c-f5f0-d019aacf044f"
      },
      "execution_count": null,
      "outputs": [
        {
          "output_type": "stream",
          "name": "stdout",
          "text": [
            "5000.5\n"
          ]
        }
      ]
    },
    {
      "cell_type": "code",
      "source": [],
      "metadata": {
        "id": "uTWmqbfV-bQC"
      },
      "execution_count": null,
      "outputs": []
    }
  ]
}